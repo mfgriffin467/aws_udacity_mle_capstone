{
  "nbformat": 4,
  "nbformat_minor": 0,
  "metadata": {
    "colab": {
      "name": "Aravato_NNs.ipynb",
      "provenance": [],
      "collapsed_sections": []
    },
    "kernelspec": {
      "name": "python3",
      "display_name": "Python 3"
    }
  },
  "cells": [
    {
      "cell_type": "code",
      "metadata": {
        "id": "3HecNlKDmdwJ",
        "colab_type": "code",
        "colab": {
          "base_uri": "https://localhost:8080/",
          "height": 33
        },
        "outputId": "3a278777-6537-421a-82a1-afe5b5f60e34"
      },
      "source": [
        "from google.colab import drive\n",
        "drive.mount('/content/gdrive', force_remount=True)\n",
        "root_dir = \"/content/gdrive/My Drive/\"\n",
        "base_dir = root_dir + 'Personal_projects/Udacity/'"
      ],
      "execution_count": 1,
      "outputs": [
        {
          "output_type": "stream",
          "text": [
            "Mounted at /content/gdrive\n"
          ],
          "name": "stdout"
        }
      ]
    },
    {
      "cell_type": "code",
      "metadata": {
        "id": "pJG9T2HLmkoK",
        "colab_type": "code",
        "colab": {
          "base_uri": "https://localhost:8080/",
          "height": 50
        },
        "outputId": "394f0de4-b556-4855-b5ae-9f006af53a5b"
      },
      "source": [
        "# import libraries here; add more as necessary\n",
        "import numpy as np\n",
        "import pandas as pd\n",
        "import matplotlib.pyplot as plt\n",
        "import seaborn as sns\n",
        "import pickle\n",
        "\n",
        "# magic word for producing visualizations in notebook\n",
        "%matplotlib inline"
      ],
      "execution_count": 2,
      "outputs": [
        {
          "output_type": "stream",
          "text": [
            "/usr/local/lib/python3.6/dist-packages/statsmodels/tools/_testing.py:19: FutureWarning: pandas.util.testing is deprecated. Use the functions in the public API at pandas.testing instead.\n",
            "  import pandas.util.testing as tm\n"
          ],
          "name": "stderr"
        }
      ]
    },
    {
      "cell_type": "code",
      "metadata": {
        "id": "nBDnVqhhDyw6",
        "colab_type": "code",
        "colab": {}
      },
      "source": [
        "# Load processed datasets for trees\n",
        "\n",
        "df_train = pd.read_csv(base_dir + \"df_train_processed.csv\")\n",
        "df_test = pd.read_csv(base_dir + \"df_test_processed.csv\")"
      ],
      "execution_count": 3,
      "outputs": []
    },
    {
      "cell_type": "code",
      "metadata": {
        "id": "LjZZADYTmnqJ",
        "colab_type": "code",
        "colab": {
          "base_uri": "https://localhost:8080/",
          "height": 50
        },
        "outputId": "8c873433-6296-4838-e1b8-a78ae4d57406"
      },
      "source": [
        "df_train_raw = pd.read_csv(base_dir + \"df_train_raw.csv\", parse_dates = ['EINGEFUEGT_AM'])\n",
        "df_test_raw = pd.read_csv(base_dir + \"df_test_raw.csv\", parse_dates = ['EINGEFUEGT_AM'])"
      ],
      "execution_count": 4,
      "outputs": [
        {
          "output_type": "stream",
          "text": [
            "/usr/local/lib/python3.6/dist-packages/IPython/core/interactiveshell.py:2718: DtypeWarning: Columns (18,19) have mixed types.Specify dtype option on import or set low_memory=False.\n",
            "  interactivity=interactivity, compiler=compiler, result=result)\n"
          ],
          "name": "stderr"
        }
      ]
    },
    {
      "cell_type": "code",
      "metadata": {
        "id": "HyAoCdWSmtrO",
        "colab_type": "code",
        "colab": {
          "base_uri": "https://localhost:8080/",
          "height": 50
        },
        "outputId": "df4e7d21-2721-46ac-b620-18eef22702c8"
      },
      "source": [
        "!curl -s https://course.fast.ai/setup/colab | bash"
      ],
      "execution_count": 5,
      "outputs": [
        {
          "output_type": "stream",
          "text": [
            "Updating fastai...\n",
            "Done.\n"
          ],
          "name": "stdout"
        }
      ]
    },
    {
      "cell_type": "code",
      "metadata": {
        "id": "1XbI4hc8mwVB",
        "colab_type": "code",
        "colab": {}
      },
      "source": [
        "from fastai.tabular import *"
      ],
      "execution_count": 6,
      "outputs": []
    },
    {
      "cell_type": "code",
      "metadata": {
        "id": "a9DqUELtmwZS",
        "colab_type": "code",
        "colab": {}
      },
      "source": [
        "def process_dates(df):\n",
        "    df['EINGEFUEGT_YEAR'] = df['EINGEFUEGT_AM'].dt.year\n",
        "    df['EINGEFUEGT_MONTH'] = df['EINGEFUEGT_AM'].dt.month\n",
        "    df['EINGEFUEGT_DAY'] = df['EINGEFUEGT_AM'].dt.day\n",
        "    df.drop(['EINGEFUEGT_AM'], axis=1, inplace=True)\n",
        "    return df"
      ],
      "execution_count": 7,
      "outputs": []
    },
    {
      "cell_type": "code",
      "metadata": {
        "id": "cVV9Lg72mwTL",
        "colab_type": "code",
        "colab": {}
      },
      "source": [
        "# Reorder rows\n",
        "\n",
        "#df_train_raw = df_train_raw.sample(frac=1).reset_index(drop=True)"
      ],
      "execution_count": 8,
      "outputs": []
    },
    {
      "cell_type": "code",
      "metadata": {
        "id": "DlFYr51Em6eV",
        "colab_type": "code",
        "colab": {}
      },
      "source": [
        "cols_zero_is_unknown = ['AGER_TYP', 'ALTERSKATEGORIE_GROB', 'ANREDE_KZ' , 'GEBAEUDETYP',\n",
        "                        'HH_EINKOMMEN_SCORE', 'KBA05_BAUMAX', 'NATIONALITAET_KZ', 'PRAEGENDE_JUGENDJAHRE',\n",
        "                        'REGIOTYP', 'RETOURTYP_BK_S' ,'SEMIO_DOM', 'TITEL_KZ', 'WOHNDAUER_2008',\n",
        "                        'WOHNLAGE', 'W_KEIT_KIND_HH']\n",
        "\n",
        "#'HAUSHALTSSTRUKTUR', 'GEOSCORE_KLS7"
      ],
      "execution_count": 9,
      "outputs": []
    },
    {
      "cell_type": "code",
      "metadata": {
        "id": "ibJ0D9AOm6hn",
        "colab_type": "code",
        "colab": {
          "base_uri": "https://localhost:8080/",
          "height": 98
        },
        "outputId": "0e3f0e5d-98c4-426c-9535-8d428d96faee"
      },
      "source": [
        "df_train_raw = process_dates(df_train_raw)\n",
        "df_test_raw = process_dates(df_test_raw)\n",
        "\n",
        "# Blank out unknowns for same treatment as blanks, how to treat zeroes??\n",
        "#df_train_raw.replace({'-1':np.nan, -1:np.nan}, inplace=True)\n",
        "#df_test_raw.replace({'-1':np.nan, -1:np.nan}, inplace=True)\n",
        "\n",
        "#df_train_raw[cols_zero_is_unknown].replace({0:np.nan}, inplace=True)\n",
        "#df_test_raw[cols_zero_is_unknown].replace({0:np.nan}, inplace=True)\n",
        "\n",
        "df_train_raw.replace(to_replace=-1, value=np.nan, inplace=True)\n",
        "df_train_raw.replace(to_replace='-1', value=np.nan, inplace=True)\n",
        "df_train_raw[cols_zero_is_unknown].replace(to_replace=0, value=np.nan, inplace=True)\n",
        "df_train_raw[cols_zero_is_unknown].replace(to_replace='0', value=np.nan, inplace=True)\n",
        "\n",
        "df_test_raw.replace(to_replace=-1, value=np.nan, inplace=True)\n",
        "df_test_raw.replace(to_replace='-1', value=np.nan, inplace=True)\n",
        "df_test_raw[cols_zero_is_unknown].replace(to_replace=0, value=np.nan, inplace=True)\n",
        "df_test_raw[cols_zero_is_unknown].replace(to_replace='0', value=np.nan, inplace=True)"
      ],
      "execution_count": 10,
      "outputs": [
        {
          "output_type": "stream",
          "text": [
            "/usr/local/lib/python3.6/dist-packages/pandas/core/frame.py:4172: SettingWithCopyWarning: \n",
            "A value is trying to be set on a copy of a slice from a DataFrame\n",
            "\n",
            "See the caveats in the documentation: https://pandas.pydata.org/pandas-docs/stable/user_guide/indexing.html#returning-a-view-versus-a-copy\n",
            "  method=method,\n"
          ],
          "name": "stderr"
        }
      ]
    },
    {
      "cell_type": "code",
      "metadata": {
        "id": "gCuhT73lgmC6",
        "colab_type": "code",
        "colab": {}
      },
      "source": [
        "# Processing and validation splits\n",
        "procs = [FillMissing, Categorify, Normalize]\n",
        "#valid_idx = range(len(df_train_raw)-10000, len(df_train_raw))"
      ],
      "execution_count": 11,
      "outputs": []
    },
    {
      "cell_type": "code",
      "metadata": {
        "id": "cLxjkKyZg6gk",
        "colab_type": "code",
        "colab": {}
      },
      "source": [
        "# Consolidated fields\n",
        "\n",
        "dep_var = 'RESPONSE'\n",
        "top_vars = ['D19_SOZIALES', 'D19_KONSUMTYP_MAX', 'D19_KONSUMTYP', 'LNR', 'EINGEZOGENAM_HH_JAHR', 'ALTERSKATEGORIE_GROB']\n",
        "top_vars = ['D19_SOZIALES', 'D19_KONSUMTYP_MAX', 'D19_KONSUMTYP', 'LNR', 'EINGEZOGENAM_HH_JAHR', 'ALTERSKATEGORIE_GROB', 'D19_VERSAND_ONLINE_QUOTE_12', 'D19_GESAMT_ONLINE_QUOTE_12', 'D19_VERSI_ONLINE_QUOTE_12']\n",
        "\n",
        "df_train_raw = df_train_raw[top_vars + [dep_var]]\n",
        "cont_fields = list(set(df_train_raw.columns) - {dep_var})\n",
        "category_fields = []"
      ],
      "execution_count": 12,
      "outputs": []
    },
    {
      "cell_type": "code",
      "metadata": {
        "id": "KLWyx4k3knai",
        "colab_type": "code",
        "colab": {
          "base_uri": "https://localhost:8080/",
          "height": 391
        },
        "outputId": "b8bbbd67-380a-4fc4-c41f-95040c0e5b50"
      },
      "source": [
        "df_train_raw"
      ],
      "execution_count": 13,
      "outputs": [
        {
          "output_type": "execute_result",
          "data": {
            "text/html": [
              "<div>\n",
              "<style scoped>\n",
              "    .dataframe tbody tr th:only-of-type {\n",
              "        vertical-align: middle;\n",
              "    }\n",
              "\n",
              "    .dataframe tbody tr th {\n",
              "        vertical-align: top;\n",
              "    }\n",
              "\n",
              "    .dataframe thead th {\n",
              "        text-align: right;\n",
              "    }\n",
              "</style>\n",
              "<table border=\"1\" class=\"dataframe\">\n",
              "  <thead>\n",
              "    <tr style=\"text-align: right;\">\n",
              "      <th></th>\n",
              "      <th>D19_SOZIALES</th>\n",
              "      <th>D19_KONSUMTYP_MAX</th>\n",
              "      <th>D19_KONSUMTYP</th>\n",
              "      <th>LNR</th>\n",
              "      <th>EINGEZOGENAM_HH_JAHR</th>\n",
              "      <th>ALTERSKATEGORIE_GROB</th>\n",
              "      <th>D19_VERSAND_ONLINE_QUOTE_12</th>\n",
              "      <th>D19_GESAMT_ONLINE_QUOTE_12</th>\n",
              "      <th>D19_VERSI_ONLINE_QUOTE_12</th>\n",
              "      <th>RESPONSE</th>\n",
              "    </tr>\n",
              "  </thead>\n",
              "  <tbody>\n",
              "    <tr>\n",
              "      <th>0</th>\n",
              "      <td>1.0</td>\n",
              "      <td>2</td>\n",
              "      <td>3.0</td>\n",
              "      <td>1763</td>\n",
              "      <td>2004.0</td>\n",
              "      <td>4</td>\n",
              "      <td>0.0</td>\n",
              "      <td>0.0</td>\n",
              "      <td>0.0</td>\n",
              "      <td>0</td>\n",
              "    </tr>\n",
              "    <tr>\n",
              "      <th>1</th>\n",
              "      <td>5.0</td>\n",
              "      <td>4</td>\n",
              "      <td>1.0</td>\n",
              "      <td>1771</td>\n",
              "      <td>1994.0</td>\n",
              "      <td>3</td>\n",
              "      <td>0.0</td>\n",
              "      <td>0.0</td>\n",
              "      <td>0.0</td>\n",
              "      <td>0</td>\n",
              "    </tr>\n",
              "    <tr>\n",
              "      <th>2</th>\n",
              "      <td>2.0</td>\n",
              "      <td>2</td>\n",
              "      <td>2.0</td>\n",
              "      <td>1776</td>\n",
              "      <td>1997.0</td>\n",
              "      <td>4</td>\n",
              "      <td>0.0</td>\n",
              "      <td>0.0</td>\n",
              "      <td>0.0</td>\n",
              "      <td>0</td>\n",
              "    </tr>\n",
              "    <tr>\n",
              "      <th>3</th>\n",
              "      <td>1.0</td>\n",
              "      <td>2</td>\n",
              "      <td>3.0</td>\n",
              "      <td>1460</td>\n",
              "      <td>1994.0</td>\n",
              "      <td>4</td>\n",
              "      <td>0.0</td>\n",
              "      <td>0.0</td>\n",
              "      <td>0.0</td>\n",
              "      <td>0</td>\n",
              "    </tr>\n",
              "    <tr>\n",
              "      <th>4</th>\n",
              "      <td>1.0</td>\n",
              "      <td>2</td>\n",
              "      <td>2.0</td>\n",
              "      <td>1783</td>\n",
              "      <td>1994.0</td>\n",
              "      <td>3</td>\n",
              "      <td>0.0</td>\n",
              "      <td>0.0</td>\n",
              "      <td>0.0</td>\n",
              "      <td>0</td>\n",
              "    </tr>\n",
              "    <tr>\n",
              "      <th>...</th>\n",
              "      <td>...</td>\n",
              "      <td>...</td>\n",
              "      <td>...</td>\n",
              "      <td>...</td>\n",
              "      <td>...</td>\n",
              "      <td>...</td>\n",
              "      <td>...</td>\n",
              "      <td>...</td>\n",
              "      <td>...</td>\n",
              "      <td>...</td>\n",
              "    </tr>\n",
              "    <tr>\n",
              "      <th>42957</th>\n",
              "      <td>3.0</td>\n",
              "      <td>2</td>\n",
              "      <td>1.0</td>\n",
              "      <td>66338</td>\n",
              "      <td>2010.0</td>\n",
              "      <td>4</td>\n",
              "      <td>6.0</td>\n",
              "      <td>6.0</td>\n",
              "      <td>0.0</td>\n",
              "      <td>0</td>\n",
              "    </tr>\n",
              "    <tr>\n",
              "      <th>42958</th>\n",
              "      <td>1.0</td>\n",
              "      <td>2</td>\n",
              "      <td>2.0</td>\n",
              "      <td>67629</td>\n",
              "      <td>2001.0</td>\n",
              "      <td>3</td>\n",
              "      <td>7.0</td>\n",
              "      <td>7.0</td>\n",
              "      <td>0.0</td>\n",
              "      <td>0</td>\n",
              "    </tr>\n",
              "    <tr>\n",
              "      <th>42959</th>\n",
              "      <td>1.0</td>\n",
              "      <td>2</td>\n",
              "      <td>2.0</td>\n",
              "      <td>68273</td>\n",
              "      <td>1994.0</td>\n",
              "      <td>4</td>\n",
              "      <td>0.0</td>\n",
              "      <td>0.0</td>\n",
              "      <td>0.0</td>\n",
              "      <td>0</td>\n",
              "    </tr>\n",
              "    <tr>\n",
              "      <th>42960</th>\n",
              "      <td>0.0</td>\n",
              "      <td>1</td>\n",
              "      <td>4.0</td>\n",
              "      <td>68581</td>\n",
              "      <td>1994.0</td>\n",
              "      <td>4</td>\n",
              "      <td>10.0</td>\n",
              "      <td>10.0</td>\n",
              "      <td>0.0</td>\n",
              "      <td>0</td>\n",
              "    </tr>\n",
              "    <tr>\n",
              "      <th>42961</th>\n",
              "      <td>0.0</td>\n",
              "      <td>8</td>\n",
              "      <td>9.0</td>\n",
              "      <td>69224</td>\n",
              "      <td>1994.0</td>\n",
              "      <td>4</td>\n",
              "      <td>0.0</td>\n",
              "      <td>0.0</td>\n",
              "      <td>0.0</td>\n",
              "      <td>0</td>\n",
              "    </tr>\n",
              "  </tbody>\n",
              "</table>\n",
              "<p>42962 rows × 10 columns</p>\n",
              "</div>"
            ],
            "text/plain": [
              "       D19_SOZIALES  D19_KONSUMTYP_MAX  ...  D19_VERSI_ONLINE_QUOTE_12  RESPONSE\n",
              "0               1.0                  2  ...                        0.0         0\n",
              "1               5.0                  4  ...                        0.0         0\n",
              "2               2.0                  2  ...                        0.0         0\n",
              "3               1.0                  2  ...                        0.0         0\n",
              "4               1.0                  2  ...                        0.0         0\n",
              "...             ...                ...  ...                        ...       ...\n",
              "42957           3.0                  2  ...                        0.0         0\n",
              "42958           1.0                  2  ...                        0.0         0\n",
              "42959           1.0                  2  ...                        0.0         0\n",
              "42960           0.0                  1  ...                        0.0         0\n",
              "42961           0.0                  8  ...                        0.0         0\n",
              "\n",
              "[42962 rows x 10 columns]"
            ]
          },
          "metadata": {
            "tags": []
          },
          "execution_count": 13
        }
      ]
    },
    {
      "cell_type": "code",
      "metadata": {
        "id": "K7XGG0cqnAf1",
        "colab_type": "code",
        "colab": {}
      },
      "source": [
        "#All fields\n",
        "\n",
        "#dep_var = 'RESPONSE'\n",
        "#obj_fields = ['CAMEO_DEU_2015', 'CAMEO_DEUG_2015', 'CAMEO_INTL_2015', 'D19_LETZTER_KAUF_BRANCHE', 'OST_WEST_KZ']\n",
        "\n",
        "# Use mostly continuous vars\n",
        "#category_fields = obj_fields\n",
        "#cont_fields = list(set(df_train_raw.columns) - set(category_fields))\n",
        "\n",
        "# Use mostly categorical vars\n",
        "#category_fields = ['LNR', 'AGER_TYP', 'ALTERSKATEGORIE_GROB', 'ANREDE_KZ', 'CAMEO_DEU_2015',\n",
        "#                  'CJT_GESAMTTYP', 'D19_KONSUMTYP', 'GEBAEUDETYP', 'GEBAEUDETYP_RASTER',\n",
        "#                  'GFK_URLAUBERTYP', 'HEALTH_TYP', 'KBA05_HERSTTEMP', 'KBA05_MAXHERST',\n",
        "#                  'KBA05_MODTEMP', 'LP_FAMILIE_FEIN', 'LP_FAMILIE_GROB', 'LP_LEBENSPHASE_FEIN', 'LP_LEBENSPHASE_GROB',\n",
        "#                  'RETOURTYP_BK_S', 'TITEL_KZ', 'ZABEOTYP']\n",
        "\n",
        "#D19_KK_KUNDENTYP, HAUSHALTSSTRUKTUR\n",
        "#category_fields = category_fields + obj_fields\n",
        "#cont_fields = list(set(df_train_raw.columns) - set(category_fields) - {dep_var})"
      ],
      "execution_count": 14,
      "outputs": []
    },
    {
      "cell_type": "code",
      "metadata": {
        "id": "fck9DsbJnAiq",
        "colab_type": "code",
        "colab": {
          "base_uri": "https://localhost:8080/",
          "height": 33
        },
        "outputId": "afa051ae-2b5b-4efa-fdd4-effedf1d5bf2"
      },
      "source": [
        "categories = df_train_raw[category_fields].nunique().keys().to_list()\n",
        "cardinalities = df_train_raw[category_fields].nunique().values\n",
        "emb_inputs = {cat: min(50, card//2) for cat, card in zip(categories, cardinalities)}\n",
        "emb_inputs"
      ],
      "execution_count": 15,
      "outputs": [
        {
          "output_type": "execute_result",
          "data": {
            "text/plain": [
              "{}"
            ]
          },
          "metadata": {
            "tags": []
          },
          "execution_count": 15
        }
      ]
    },
    {
      "cell_type": "code",
      "metadata": {
        "id": "dVuRPAP2nGpQ",
        "colab_type": "code",
        "colab": {}
      },
      "source": [
        "#data = TabularDataBunch.from_df(path='', df=df_train_raw, dep_var=dep_var, valid_idx=valid_idx, procs=procs, cat_names=category_fields, cont_names=cont_fields)#"
      ],
      "execution_count": 16,
      "outputs": []
    },
    {
      "cell_type": "code",
      "metadata": {
        "id": "Xkhy9HLenGsZ",
        "colab_type": "code",
        "colab": {}
      },
      "source": [
        "data = (TabularList.from_df(df=df_train_raw, path='', cat_names=category_fields, procs=procs, cont_names=cont_fields)\n",
        "                              .split_by_rand_pct(valid_pct=0.35)\n",
        "                              .label_from_df(cols=dep_var)\n",
        "                              .add_test(TabularList.from_df(df_test_raw))\n",
        "                              .databunch())"
      ],
      "execution_count": 17,
      "outputs": []
    },
    {
      "cell_type": "code",
      "metadata": {
        "id": "u8wZ17iSnTFf",
        "colab_type": "code",
        "colab": {}
      },
      "source": [
        "#learner_final = tabular_learner(data, layers=[50,10], metrics=[accuracy, AUROC()], ps=[0.5,0.2], emb_szs=emb_inputs, emb_drop=0.04)\n",
        "learner_final = tabular_learner(data, layers=[100,20], metrics=[accuracy, AUROC()], ps=[0.1,0.1], emb_szs=emb_inputs, emb_drop=0.1)"
      ],
      "execution_count": 18,
      "outputs": []
    },
    {
      "cell_type": "code",
      "metadata": {
        "id": "smOUnE0KnTIs",
        "colab_type": "code",
        "colab": {
          "base_uri": "https://localhost:8080/",
          "height": 403
        },
        "outputId": "139ccb4a-d3c1-40b8-b841-8a1d0016abb4"
      },
      "source": [
        "learner_final.lr_find()\n",
        "learner_final.recorder.plot(suggestion=True)"
      ],
      "execution_count": 19,
      "outputs": [
        {
          "output_type": "display_data",
          "data": {
            "text/html": [
              "\n",
              "    <div>\n",
              "        <style>\n",
              "            /* Turns off some styling */\n",
              "            progress {\n",
              "                /* gets rid of default border in Firefox and Opera. */\n",
              "                border: none;\n",
              "                /* Needs to be in here for Safari polyfill so background images work as expected. */\n",
              "                background-size: auto;\n",
              "            }\n",
              "            .progress-bar-interrupted, .progress-bar-interrupted::-webkit-progress-bar {\n",
              "                background: #F44336;\n",
              "            }\n",
              "        </style>\n",
              "      <progress value='0' class='' max='1' style='width:300px; height:20px; vertical-align: middle;'></progress>\n",
              "      0.00% [0/1 00:00<00:00]\n",
              "    </div>\n",
              "    \n",
              "<table border=\"1\" class=\"dataframe\">\n",
              "  <thead>\n",
              "    <tr style=\"text-align: left;\">\n",
              "      <th>epoch</th>\n",
              "      <th>train_loss</th>\n",
              "      <th>valid_loss</th>\n",
              "      <th>accuracy</th>\n",
              "      <th>auroc</th>\n",
              "      <th>time</th>\n",
              "    </tr>\n",
              "  </thead>\n",
              "  <tbody>\n",
              "  </tbody>\n",
              "</table><p>\n",
              "\n",
              "    <div>\n",
              "        <style>\n",
              "            /* Turns off some styling */\n",
              "            progress {\n",
              "                /* gets rid of default border in Firefox and Opera. */\n",
              "                border: none;\n",
              "                /* Needs to be in here for Safari polyfill so background images work as expected. */\n",
              "                background-size: auto;\n",
              "            }\n",
              "            .progress-bar-interrupted, .progress-bar-interrupted::-webkit-progress-bar {\n",
              "                background: #F44336;\n",
              "            }\n",
              "        </style>\n",
              "      <progress value='87' class='' max='436' style='width:300px; height:20px; vertical-align: middle;'></progress>\n",
              "      19.95% [87/436 00:00<00:03 0.5481]\n",
              "    </div>\n",
              "    "
            ],
            "text/plain": [
              "<IPython.core.display.HTML object>"
            ]
          },
          "metadata": {
            "tags": []
          }
        },
        {
          "output_type": "stream",
          "text": [
            "LR Finder is complete, type {learner_name}.recorder.plot() to see the graph.\n",
            "Min numerical gradient: 2.29E+00\n",
            "Min loss divided by 10: 6.31E-02\n"
          ],
          "name": "stdout"
        },
        {
          "output_type": "display_data",
          "data": {
            "image/png": "[encoded data removed]",
            "text/plain": [
              "<Figure size 432x288 with 1 Axes>"
            ]
          },
          "metadata": {
            "tags": [],
            "needs_background": "light"
          }
        }
      ]
    },
    {
      "cell_type": "code",
      "metadata": {
        "id": "e2cMAFx36KkW",
        "colab_type": "code",
        "colab": {}
      },
      "source": [
        "min_grad_lr = min(learner_final.recorder.min_grad_lr,1e-01)"
      ],
      "execution_count": 20,
      "outputs": []
    },
    {
      "cell_type": "code",
      "metadata": {
        "id": "EdNvtCjinWJx",
        "colab_type": "code",
        "colab": {
          "base_uri": "https://localhost:8080/",
          "height": 256
        },
        "outputId": "adc05c69-e702-40c3-d223-183050720e77"
      },
      "source": [
        "learner_final.fit_one_cycle(5, max_lr=min_grad_lr)"
      ],
      "execution_count": 21,
      "outputs": [
        {
          "output_type": "display_data",
          "data": {
            "text/html": [
              "<table border=\"1\" class=\"dataframe\">\n",
              "  <thead>\n",
              "    <tr style=\"text-align: left;\">\n",
              "      <th>epoch</th>\n",
              "      <th>train_loss</th>\n",
              "      <th>valid_loss</th>\n",
              "      <th>accuracy</th>\n",
              "      <th>auroc</th>\n",
              "      <th>time</th>\n",
              "    </tr>\n",
              "  </thead>\n",
              "  <tbody>\n",
              "    <tr>\n",
              "      <td>0</td>\n",
              "      <td>0.071622</td>\n",
              "      <td>0.059899</td>\n",
              "      <td>0.988428</td>\n",
              "      <td>0.762949</td>\n",
              "      <td>00:06</td>\n",
              "    </tr>\n",
              "    <tr>\n",
              "      <td>1</td>\n",
              "      <td>0.073073</td>\n",
              "      <td>0.062628</td>\n",
              "      <td>0.988428</td>\n",
              "      <td>0.735964</td>\n",
              "      <td>00:06</td>\n",
              "    </tr>\n",
              "    <tr>\n",
              "      <td>2</td>\n",
              "      <td>0.068047</td>\n",
              "      <td>0.077451</td>\n",
              "      <td>0.988428</td>\n",
              "      <td>0.776532</td>\n",
              "      <td>00:06</td>\n",
              "    </tr>\n",
              "    <tr>\n",
              "      <td>3</td>\n",
              "      <td>0.069958</td>\n",
              "      <td>0.058892</td>\n",
              "      <td>0.988428</td>\n",
              "      <td>0.775264</td>\n",
              "      <td>00:06</td>\n",
              "    </tr>\n",
              "    <tr>\n",
              "      <td>4</td>\n",
              "      <td>0.053419</td>\n",
              "      <td>0.057049</td>\n",
              "      <td>0.988428</td>\n",
              "      <td>0.771772</td>\n",
              "      <td>00:05</td>\n",
              "    </tr>\n",
              "  </tbody>\n",
              "</table>"
            ],
            "text/plain": [
              "<IPython.core.display.HTML object>"
            ]
          },
          "metadata": {
            "tags": []
          }
        },
        {
          "output_type": "stream",
          "text": [
            "/pytorch/torch/csrc/utils/python_arg_parser.cpp:756: UserWarning: This overload of nonzero is deprecated:\n",
            "\tnonzero(Tensor input, *, Tensor out)\n",
            "Consider using one of the following signatures instead:\n",
            "\tnonzero(Tensor input, *, bool as_tuple)\n"
          ],
          "name": "stderr"
        }
      ]
    },
    {
      "cell_type": "code",
      "metadata": {
        "id": "WkrJfDlKnWMz",
        "colab_type": "code",
        "colab": {
          "base_uri": "https://localhost:8080/",
          "height": 191
        },
        "outputId": "7a68e077-ba5e-4507-dc9a-dd41ea2ca7c8"
      },
      "source": [
        "learner_final.fit_one_cycle(5, max_lr=min_grad_lr/5)"
      ],
      "execution_count": 22,
      "outputs": [
        {
          "output_type": "display_data",
          "data": {
            "text/html": [
              "<table border=\"1\" class=\"dataframe\">\n",
              "  <thead>\n",
              "    <tr style=\"text-align: left;\">\n",
              "      <th>epoch</th>\n",
              "      <th>train_loss</th>\n",
              "      <th>valid_loss</th>\n",
              "      <th>accuracy</th>\n",
              "      <th>auroc</th>\n",
              "      <th>time</th>\n",
              "    </tr>\n",
              "  </thead>\n",
              "  <tbody>\n",
              "    <tr>\n",
              "      <td>0</td>\n",
              "      <td>0.064861</td>\n",
              "      <td>0.057411</td>\n",
              "      <td>0.988428</td>\n",
              "      <td>0.774587</td>\n",
              "      <td>00:06</td>\n",
              "    </tr>\n",
              "    <tr>\n",
              "      <td>1</td>\n",
              "      <td>0.062857</td>\n",
              "      <td>0.058032</td>\n",
              "      <td>0.988428</td>\n",
              "      <td>0.784854</td>\n",
              "      <td>00:06</td>\n",
              "    </tr>\n",
              "    <tr>\n",
              "      <td>2</td>\n",
              "      <td>0.067069</td>\n",
              "      <td>0.057461</td>\n",
              "      <td>0.988428</td>\n",
              "      <td>0.782431</td>\n",
              "      <td>00:05</td>\n",
              "    </tr>\n",
              "    <tr>\n",
              "      <td>3</td>\n",
              "      <td>0.072994</td>\n",
              "      <td>0.057839</td>\n",
              "      <td>0.988361</td>\n",
              "      <td>0.784224</td>\n",
              "      <td>00:06</td>\n",
              "    </tr>\n",
              "    <tr>\n",
              "      <td>4</td>\n",
              "      <td>0.058457</td>\n",
              "      <td>0.173493</td>\n",
              "      <td>0.987630</td>\n",
              "      <td>0.782664</td>\n",
              "      <td>00:05</td>\n",
              "    </tr>\n",
              "  </tbody>\n",
              "</table>"
            ],
            "text/plain": [
              "<IPython.core.display.HTML object>"
            ]
          },
          "metadata": {
            "tags": []
          }
        }
      ]
    },
    {
      "cell_type": "code",
      "metadata": {
        "id": "-hZHbFwoUeD8",
        "colab_type": "code",
        "colab": {
          "base_uri": "https://localhost:8080/",
          "height": 191
        },
        "outputId": "6ed939a9-d405-4300-fb6b-4781fc243967"
      },
      "source": [
        "learner_final.fit_one_cycle(5, max_lr=min_grad_lr/10)"
      ],
      "execution_count": 23,
      "outputs": [
        {
          "output_type": "display_data",
          "data": {
            "text/html": [
              "<table border=\"1\" class=\"dataframe\">\n",
              "  <thead>\n",
              "    <tr style=\"text-align: left;\">\n",
              "      <th>epoch</th>\n",
              "      <th>train_loss</th>\n",
              "      <th>valid_loss</th>\n",
              "      <th>accuracy</th>\n",
              "      <th>auroc</th>\n",
              "      <th>time</th>\n",
              "    </tr>\n",
              "  </thead>\n",
              "  <tbody>\n",
              "    <tr>\n",
              "      <td>0</td>\n",
              "      <td>0.067217</td>\n",
              "      <td>0.065501</td>\n",
              "      <td>0.987962</td>\n",
              "      <td>0.783076</td>\n",
              "      <td>00:06</td>\n",
              "    </tr>\n",
              "    <tr>\n",
              "      <td>1</td>\n",
              "      <td>0.071013</td>\n",
              "      <td>0.057898</td>\n",
              "      <td>0.988428</td>\n",
              "      <td>0.782803</td>\n",
              "      <td>00:05</td>\n",
              "    </tr>\n",
              "    <tr>\n",
              "      <td>2</td>\n",
              "      <td>0.057179</td>\n",
              "      <td>0.068895</td>\n",
              "      <td>0.987630</td>\n",
              "      <td>0.781905</td>\n",
              "      <td>00:05</td>\n",
              "    </tr>\n",
              "    <tr>\n",
              "      <td>3</td>\n",
              "      <td>0.058651</td>\n",
              "      <td>0.056766</td>\n",
              "      <td>0.988428</td>\n",
              "      <td>0.784669</td>\n",
              "      <td>00:06</td>\n",
              "    </tr>\n",
              "    <tr>\n",
              "      <td>4</td>\n",
              "      <td>0.068188</td>\n",
              "      <td>0.057619</td>\n",
              "      <td>0.988361</td>\n",
              "      <td>0.785934</td>\n",
              "      <td>00:06</td>\n",
              "    </tr>\n",
              "  </tbody>\n",
              "</table>"
            ],
            "text/plain": [
              "<IPython.core.display.HTML object>"
            ]
          },
          "metadata": {
            "tags": []
          }
        }
      ]
    },
    {
      "cell_type": "code",
      "metadata": {
        "id": "ZU3PkAz161-7",
        "colab_type": "code",
        "colab": {}
      },
      "source": [
        "#learner_final.save(base_dir + 'neural_net')"
      ],
      "execution_count": 24,
      "outputs": []
    },
    {
      "cell_type": "code",
      "metadata": {
        "id": "9IP5MNp177hA",
        "colab_type": "code",
        "colab": {}
      },
      "source": [
        "#learner_final.load(base_dir + 'neural_net')"
      ],
      "execution_count": 25,
      "outputs": []
    },
    {
      "cell_type": "code",
      "metadata": {
        "id": "te1Tu6GIpFt7",
        "colab_type": "code",
        "colab": {
          "base_uri": "https://localhost:8080/",
          "height": 191
        },
        "outputId": "6114dbd2-587a-4e68-8608-516f5301a402"
      },
      "source": [
        "preds_nn, y = learner_final.get_preds(DatasetType.Test)\n",
        "test_submission = pd.concat([df_test_raw[['LNR']], pd.DataFrame(preds_nn.numpy())[[1]]],axis=1)\n",
        "test_submission.columns = ['LNR', 'RESPONSE']\n",
        "test_submission.head()"
      ],
      "execution_count": 26,
      "outputs": [
        {
          "output_type": "display_data",
          "data": {
            "text/html": [
              ""
            ],
            "text/plain": [
              "<IPython.core.display.HTML object>"
            ]
          },
          "metadata": {
            "tags": []
          }
        },
        {
          "output_type": "execute_result",
          "data": {
            "text/html": [
              "<div>\n",
              "<style scoped>\n",
              "    .dataframe tbody tr th:only-of-type {\n",
              "        vertical-align: middle;\n",
              "    }\n",
              "\n",
              "    .dataframe tbody tr th {\n",
              "        vertical-align: top;\n",
              "    }\n",
              "\n",
              "    .dataframe thead th {\n",
              "        text-align: right;\n",
              "    }\n",
              "</style>\n",
              "<table border=\"1\" class=\"dataframe\">\n",
              "  <thead>\n",
              "    <tr style=\"text-align: right;\">\n",
              "      <th></th>\n",
              "      <th>LNR</th>\n",
              "      <th>RESPONSE</th>\n",
              "    </tr>\n",
              "  </thead>\n",
              "  <tbody>\n",
              "    <tr>\n",
              "      <th>0</th>\n",
              "      <td>1754</td>\n",
              "      <td>0.031476</td>\n",
              "    </tr>\n",
              "    <tr>\n",
              "      <th>1</th>\n",
              "      <td>1770</td>\n",
              "      <td>0.035442</td>\n",
              "    </tr>\n",
              "    <tr>\n",
              "      <th>2</th>\n",
              "      <td>1465</td>\n",
              "      <td>0.002510</td>\n",
              "    </tr>\n",
              "    <tr>\n",
              "      <th>3</th>\n",
              "      <td>1470</td>\n",
              "      <td>0.002510</td>\n",
              "    </tr>\n",
              "    <tr>\n",
              "      <th>4</th>\n",
              "      <td>1478</td>\n",
              "      <td>0.003530</td>\n",
              "    </tr>\n",
              "  </tbody>\n",
              "</table>\n",
              "</div>"
            ],
            "text/plain": [
              "    LNR  RESPONSE\n",
              "0  1754  0.031476\n",
              "1  1770  0.035442\n",
              "2  1465  0.002510\n",
              "3  1470  0.002510\n",
              "4  1478  0.003530"
            ]
          },
          "metadata": {
            "tags": []
          },
          "execution_count": 26
        }
      ]
    },
    {
      "cell_type": "code",
      "metadata": {
        "id": "2_0Di5BIxMRI",
        "colab_type": "code",
        "colab": {
          "base_uri": "https://localhost:8080/",
          "height": 295
        },
        "outputId": "b9d0aa44-e847-4fa2-bbeb-d11468d0e00f"
      },
      "source": [
        "sns.distplot(test_submission['RESPONSE'])"
      ],
      "execution_count": 27,
      "outputs": [
        {
          "output_type": "execute_result",
          "data": {
            "text/plain": [
              "<matplotlib.axes._subplots.AxesSubplot at 0x7f9c423e5dd8>"
            ]
          },
          "metadata": {
            "tags": []
          },
          "execution_count": 27
        },
        {
          "output_type": "display_data",
          "data": {
            "image/png": "[encoded data removed]",
            "text/plain": [
              "<Figure size 432x288 with 1 Axes>"
            ]
          },
          "metadata": {
            "tags": [],
            "needs_background": "light"
          }
        }
      ]
    },
    {
      "cell_type": "code",
      "metadata": {
        "id": "t9fU0scTrrUb",
        "colab_type": "code",
        "colab": {}
      },
      "source": [
        "test_submission.to_csv(base_dir + \"test_submission.csv\", index=False)"
      ],
      "execution_count": 28,
      "outputs": []
    },
    {
      "cell_type": "markdown",
      "metadata": {
        "id": "9YleoHA5DOP0",
        "colab_type": "text"
      },
      "source": [
        "# Model ensembling"
      ]
    },
    {
      "cell_type": "code",
      "metadata": {
        "id": "rS7_iNWADNLv",
        "colab_type": "code",
        "colab": {
          "base_uri": "https://localhost:8080/",
          "height": 167
        },
        "outputId": "0b4db9bf-001c-4949-90c8-34f890b7c516"
      },
      "source": [
        "best_rf = pickle.load(open(base_dir +'best_rf.sav', 'rb'))\n",
        "preds_rf = best_rf.predict_proba(df_test)[:,1]"
      ],
      "execution_count": 29,
      "outputs": [
        {
          "output_type": "stream",
          "text": [
            "/usr/local/lib/python3.6/dist-packages/sklearn/utils/deprecation.py:144: FutureWarning: The sklearn.ensemble.forest module is  deprecated in version 0.22 and will be removed in version 0.24. The corresponding classes / functions should instead be imported from sklearn.ensemble. Anything that cannot be imported from sklearn.ensemble is now part of the private API.\n",
            "  warnings.warn(message, FutureWarning)\n",
            "/usr/local/lib/python3.6/dist-packages/sklearn/utils/deprecation.py:144: FutureWarning: The sklearn.tree.tree module is  deprecated in version 0.22 and will be removed in version 0.24. The corresponding classes / functions should instead be imported from sklearn.tree. Anything that cannot be imported from sklearn.tree is now part of the private API.\n",
            "  warnings.warn(message, FutureWarning)\n",
            "/usr/local/lib/python3.6/dist-packages/sklearn/base.py:318: UserWarning: Trying to unpickle estimator DecisionTreeClassifier from version 0.19.1 when using version 0.22.2.post1. This might lead to breaking code or invalid results. Use at your own risk.\n",
            "  UserWarning)\n",
            "/usr/local/lib/python3.6/dist-packages/sklearn/base.py:318: UserWarning: Trying to unpickle estimator RandomForestClassifier from version 0.19.1 when using version 0.22.2.post1. This might lead to breaking code or invalid results. Use at your own risk.\n",
            "  UserWarning)\n"
          ],
          "name": "stderr"
        }
      ]
    },
    {
      "cell_type": "code",
      "metadata": {
        "id": "j--66vi0Fd9b",
        "colab_type": "code",
        "colab": {}
      },
      "source": [
        "preds_ens = (preds_rf + preds_nn.numpy()[:,1])/2"
      ],
      "execution_count": 30,
      "outputs": []
    },
    {
      "cell_type": "code",
      "metadata": {
        "id": "R8S3a9X_FUlc",
        "colab_type": "code",
        "colab": {
          "base_uri": "https://localhost:8080/",
          "height": 191
        },
        "outputId": "caaa43d2-b324-4f19-f89d-1149075185c9"
      },
      "source": [
        "ens_submission = pd.concat([df_test_raw[['LNR']], pd.DataFrame(preds_ens)],axis=1)\n",
        "ens_submission.columns = ['LNR', 'RESPONSE']\n",
        "ens_submission.head()"
      ],
      "execution_count": 31,
      "outputs": [
        {
          "output_type": "execute_result",
          "data": {
            "text/html": [
              "<div>\n",
              "<style scoped>\n",
              "    .dataframe tbody tr th:only-of-type {\n",
              "        vertical-align: middle;\n",
              "    }\n",
              "\n",
              "    .dataframe tbody tr th {\n",
              "        vertical-align: top;\n",
              "    }\n",
              "\n",
              "    .dataframe thead th {\n",
              "        text-align: right;\n",
              "    }\n",
              "</style>\n",
              "<table border=\"1\" class=\"dataframe\">\n",
              "  <thead>\n",
              "    <tr style=\"text-align: right;\">\n",
              "      <th></th>\n",
              "      <th>LNR</th>\n",
              "      <th>RESPONSE</th>\n",
              "    </tr>\n",
              "  </thead>\n",
              "  <tbody>\n",
              "    <tr>\n",
              "      <th>0</th>\n",
              "      <td>1754</td>\n",
              "      <td>0.366172</td>\n",
              "    </tr>\n",
              "    <tr>\n",
              "      <th>1</th>\n",
              "      <td>1770</td>\n",
              "      <td>0.383582</td>\n",
              "    </tr>\n",
              "    <tr>\n",
              "      <th>2</th>\n",
              "      <td>1465</td>\n",
              "      <td>0.085124</td>\n",
              "    </tr>\n",
              "    <tr>\n",
              "      <th>3</th>\n",
              "      <td>1470</td>\n",
              "      <td>0.095897</td>\n",
              "    </tr>\n",
              "    <tr>\n",
              "      <th>4</th>\n",
              "      <td>1478</td>\n",
              "      <td>0.097854</td>\n",
              "    </tr>\n",
              "  </tbody>\n",
              "</table>\n",
              "</div>"
            ],
            "text/plain": [
              "    LNR  RESPONSE\n",
              "0  1754  0.366172\n",
              "1  1770  0.383582\n",
              "2  1465  0.085124\n",
              "3  1470  0.095897\n",
              "4  1478  0.097854"
            ]
          },
          "metadata": {
            "tags": []
          },
          "execution_count": 31
        }
      ]
    },
    {
      "cell_type": "code",
      "metadata": {
        "id": "P81BzBPVGMCH",
        "colab_type": "code",
        "colab": {}
      },
      "source": [
        "ens_submission.to_csv(base_dir + \"ensemble_submission.csv\", index=False)"
      ],
      "execution_count": 32,
      "outputs": []
    },
    {
      "cell_type": "code",
      "metadata": {
        "id": "atzZdBuMvduX",
        "colab_type": "code",
        "colab": {}
      },
      "source": [
        "#https://machinelearningmastery.com/smote-oversampling-for-imbalanced-classification/"
      ],
      "execution_count": 33,
      "outputs": []
    },
    {
      "cell_type": "code",
      "metadata": {
        "id": "EkyLWL9z27BW",
        "colab_type": "code",
        "colab": {}
      },
      "source": [
        ""
      ],
      "execution_count": 33,
      "outputs": []
    }
  ]
}